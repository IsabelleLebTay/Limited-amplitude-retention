{
 "cells": [
  {
   "cell_type": "markdown",
   "metadata": {},
   "source": [
    "# Species-level relative abundance in response to regenerating harvests "
   ]
  },
  {
   "cell_type": "markdown",
   "metadata": {},
   "source": [
    "```yaml\n",
    "---\n",
    "title: \"Species-level Relative Abundance in Response to Regenerating Harvests\"\n",
    "description: >\n",
    "  This notebook implements negative binomial models to analyze species-level \n",
    "  relative abundance in response to regenerating forest harvests. It covers \n",
    "  data loading and preparation, model fitting using Stan via CmdStanPy, \n",
    "  and model comparison using WAIC and LOO. The analysis focuses on bird \n",
    "  species abundance in relation to various environmental covariates such as \n",
    "  vegetation type, patch characteristics, and forest age.\n",
    "author: \"Isabelle Lebeuf-Taylor\"\n",
    "date: \"2024-09-25\"\n",
    "tags:\n",
    "  - ecological modeling\n",
    "  - bird abundance\n",
    "  - Stan\n",
    "  - negative binomial\n",
    "---\n",
    "```"
   ]
  },
  {
   "cell_type": "markdown",
   "metadata": {},
   "source": [
    "## A. Load data and packages"
   ]
  },
  {
   "cell_type": "code",
   "execution_count": 1,
   "metadata": {},
   "outputs": [
    {
     "name": "stderr",
     "output_type": "stream",
     "text": [
      "c:\\Users\\ilebe\\anaconda3\\envs\\stan\\Lib\\site-packages\\tqdm\\auto.py:21: TqdmWarning: IProgress not found. Please update jupyter and ipywidgets. See https://ipywidgets.readthedocs.io/en/stable/user_install.html\n",
      "  from .autonotebook import tqdm as notebook_tqdm\n"
     ]
    }
   ],
   "source": [
    "import os\n",
    "import pandas as pd\n",
    "from cmdstanpy import CmdStanModel\n",
    "import arviz as az\n",
    "import matplotlib.pyplot as plt\n",
    "import seaborn as sns\n",
    "import numpy as np\n",
    "from sklearn.preprocessing import StandardScaler\n",
    "from sklearn.preprocessing import MinMaxScaler\n",
    "from arviz.labels import BaseLabeller"
   ]
  },
  {
   "cell_type": "markdown",
   "metadata": {},
   "source": [
    "### A. Load data"
   ]
  },
  {
   "cell_type": "code",
   "execution_count": 11,
   "metadata": {},
   "outputs": [],
   "source": [
    "truncated_150m_counts = pd.read_csv(\"Data/Abundance within 150m.csv\")\n",
    "truncated_250m_counts = pd.read_csv(\"Data/Abundance within 250m.csv\")\n",
    "untruncated_counts = pd.read_csv(\"Data/Abundance untruncated distance.csv\")\n",
    "covariates = pd.read_csv(\"Data/covariates.csv\")"
   ]
  },
  {
   "cell_type": "markdown",
   "metadata": {},
   "source": [
    "# B. Prepare data"
   ]
  },
  {
   "cell_type": "markdown",
   "metadata": {},
   "source": [
    "### B.1 Load data"
   ]
  },
  {
   "cell_type": "code",
   "execution_count": 12,
   "metadata": {},
   "outputs": [],
   "source": [
    "df_sites_to_use = pd.read_csv(r\"C:\\Users\\ilebe\\Documents\\!Masters!\\Chapter 1 - Single species and retention\\Bird-abundance-limited-perceptibility\\Data\\sites_to_use.csv\")\n",
    "list_sites_to_use = df_sites_to_use.sites.to_list()\n",
    "covariates = covariates.loc[covariates['location'].isin(list_sites_to_use)]\n",
    "truncated_150m_counts = truncated_150m_counts.loc[truncated_150m_counts['location'].isin(list_sites_to_use)]\n",
    "truncated_250m_counts = truncated_250m_counts.loc[truncated_250m_counts['location'].isin(list_sites_to_use)]\n",
    "untruncated_counts = untruncated_counts.loc[untruncated_counts['location'].isin(list_sites_to_use)]"
   ]
  },
  {
   "cell_type": "code",
   "execution_count": 14,
   "metadata": {},
   "outputs": [],
   "source": [
    "covariates.to_csv(r\"C:\\Users\\ilebe\\Documents\\!Masters!\\Chapter 1 - Single species and retention\\Bird-abundance-limited-perceptibility\\Data\\Covariates.csv\")\n",
    "truncated_150m_counts.to_csv(r\"C:\\Users\\ilebe\\Documents\\!Masters!\\Chapter 1 - Single species and retention\\Bird-abundance-limited-perceptibility\\Data\\Abundance within 150m.csv\")\n",
    "truncated_250m_counts.to_csv(r\"C:\\Users\\ilebe\\Documents\\!Masters!\\Chapter 1 - Single species and retention\\Bird-abundance-limited-perceptibility\\Data\\Abundance within 250m.csv\")\n",
    "untruncated_counts.to_csv(r\"C:\\Users\\ilebe\\Documents\\!Masters!\\Chapter 1 - Single species and retention\\Bird-abundance-limited-perceptibility\\Data\\Abundance untruncated distance.csv\")"
   ]
  },
  {
   "cell_type": "markdown",
   "metadata": {},
   "source": [
    "### B.2 Prepare data, per response dataset"
   ]
  },
  {
   "cell_type": "code",
   "execution_count": null,
   "metadata": {},
   "outputs": [],
   "source": [
    "# 1. Choose the response dataset\n",
    "# obs_count_10 = truncated_150m_counts\n",
    "# obs_count_10 = truncated_250m_counts\n",
    "obs_count_10 = untruncated_counts\n",
    "\n",
    "# 2. Randomly select 10 transcribed recordings per site\n",
    "final_obs_count = obs_count_10.groupby('location').apply(lambda x: x.sample(n=10, replace=False, random_state = 123)).reset_index(drop=True)\n",
    "final_obs_count['visit_number'] = final_obs_count.groupby('location').cumcount() + 1\n",
    "\n",
    "# 3. Assigned integers to veg categories\n",
    "covariates['Tree_group'] =  covariates['Veg_cat'].map({\"Pine\": 1, \"Deciduous\": 2, \"Mixedwood\": 3, \"Spruce\": 4})\n",
    "\n",
    "# 4. Make a  patch presence column\n",
    "covariates['patch'] = covariates.apply(lambda row: 0 if row['RETN_m2'] == 0 else 1, axis=1)\n",
    "\n",
    "# 5. Calculate the area to edge ratio\n",
    "covariates['edge'] = covariates['RETN_m2'] / covariates['RETN_perimeter_m']\n",
    "covariates['edge'] = covariates['edge'].fillna(0)"
   ]
  },
  {
   "cell_type": "markdown",
   "metadata": {},
   "source": [
    "### B.3 Prepare data list for Stan models, per bird"
   ]
  },
  {
   "cell_type": "code",
   "execution_count": null,
   "metadata": {},
   "outputs": [],
   "source": [
    "# 1. Choose your bird\n",
    "bird = 'WTSP'\n",
    "# All species  = ['WTSP', 'YRWA', 'RCKI', 'TEWA', 'REVI']\n",
    "\n",
    "# 2. Prepare lists\n",
    "N_matrix_visit_num = final_obs_count.pivot(index='location', columns='visit_number', values=f\"{bird}\").fillna(0).astype(int).values.tolist()\n",
    "veg_categories_ints = covariates['Tree_group'].to_list()\n",
    "dist_forest = covariates['Dist_near_forest'].to_list()\n",
    "size = covariates['RETN_m2'].tolist()\n",
    "patch = covariates['patch'].to_list()\n",
    "edge = covariates['edge'].to_list()\n",
    "age = covariates['Year_since_logging'].tolist()\n",
    "age2 = [i**2 for i in age]\n",
    "\n",
    "# 3. Calculate the maximum count encountered at each site\n",
    "max_counts = [max(site_counts) for site_counts in N_matrix_visit_num]\n",
    "\n",
    "# 4. Calculate the maximum count total\n",
    "max_total = max(max_counts)"
   ]
  },
  {
   "cell_type": "markdown",
   "metadata": {},
   "source": [
    "### B.4 Compile data list into a dictionary for the CmdStanPy interfce of Stan"
   ]
  },
  {
   "cell_type": "code",
   "execution_count": null,
   "metadata": {},
   "outputs": [],
   "source": [
    "obs_and_covs_dict_max_count = {\n",
    "    \"I\": len(obs_count_10['location'].unique()),\n",
    "    \"J\": 10,\n",
    "    \"M\": max_counts,\n",
    "    \"tree_groups\": veg_categories_ints,\n",
    "    \"dist_forest\" : dist_forest,\n",
    "    \"size\": size,\n",
    "    \"patch\" : patch,\n",
    "    \"edge\" : edge,\n",
    "    \"age\": age,\n",
    "    \"age2\" :age2,\n",
    "}\n",
    "\n",
    "# Scale covariates between 0 and 1\n",
    "\n",
    "MinMax_obs_and_covs_dict = {}\n",
    "for key, value in obs_and_covs_dict_max_count.items():\n",
    "    if isinstance(value, (list, np.ndarray)) and key not in ['M', 'patch', \"tree_groups\"]:\n",
    "        scaled = MinMaxScaler().fit_transform(np.array(value).reshape(-1, 1))\n",
    "        MinMax_obs_and_covs_dict[key] = scaled.ravel().tolist()\n",
    "\n",
    "    else:\n",
    "        MinMax_obs_and_covs_dict[key] = value\n"
   ]
  },
  {
   "cell_type": "markdown",
   "metadata": {},
   "source": [
    "### B.5 Check dispersion of the observations"
   ]
  },
  {
   "cell_type": "code",
   "execution_count": null,
   "metadata": {},
   "outputs": [],
   "source": [
    "observed_data = MinMax_obs_and_covs_dict.observed_data['M'].values\n",
    "\n",
    "# Calculate mean and variance\n",
    "mean_observed = np.mean(observed_data)\n",
    "variance_observed = np.var(observed_data)"
   ]
  },
  {
   "cell_type": "markdown",
   "metadata": {},
   "source": [
    "# C. Run models"
   ]
  },
  {
   "cell_type": "markdown",
   "metadata": {},
   "source": [
    "### C.1 Load stan files\n",
    "\n",
    "> Adjust covariates in the stan file to test WAIC between models"
   ]
  },
  {
   "cell_type": "code",
   "execution_count": null,
   "metadata": {},
   "outputs": [],
   "source": [
    "bn_area_age2 = CmdStanModel(stan_file=(\"neg binom area.stan\"))\n",
    "bn_edge_age2 = CmdStanModel(stan_file=(\"neg binom edge.stan\"))"
   ]
  },
  {
   "cell_type": "markdown",
   "metadata": {},
   "source": [
    "### C.2 Run each model"
   ]
  },
  {
   "cell_type": "code",
   "execution_count": null,
   "metadata": {},
   "outputs": [],
   "source": [
    "nb_samples = bn_area_age2.sample(\n",
    "    data=MinMax_obs_and_covs_dict,\n",
    "    parallel_chains=4,\n",
    "    iter_warmup = 3000,\n",
    "    iter_sampling = 3000,\n",
    "    show_console=False)"
   ]
  },
  {
   "cell_type": "markdown",
   "metadata": {},
   "source": [
    "### C.3 Save inference data for reproducibility\n",
    "Repeat for each bird, truncation distance, and area vs edge.\n",
    "\n",
    "1. Check r-hat with model.summery()['R_hat']\n",
    "2. Check convergence with arviz.plot_trace()"
   ]
  },
  {
   "cell_type": "code",
   "execution_count": null,
   "metadata": {},
   "outputs": [],
   "source": [
    "# EDGE MODEL with DIST TO FOREST\n",
    "nb_150_idata = az.from_cmdstanpy(\n",
    "    posterior= nb_samples,\n",
    "    observed_data={\"M\": MinMax_obs_and_covs_dict[\"M\"]},\n",
    "    constant_data={\"age\": MinMax_obs_and_covs_dict[\"age\"],\n",
    "                   \"age2\": MinMax_obs_and_covs_dict[\"age2\"],\n",
    "                   \"edge\" : MinMax_obs_and_covs_dict['edge'],\n",
    "                   \"patch\" :MinMax_obs_and_covs_dict['patch'],\n",
    "                   \"dist_forest\" : MinMax_obs_and_covs_dict['dist_forest'],\n",
    "                   \"tree_groups\": MinMax_obs_and_covs_dict['tree_groups']},\n",
    "    coords= {\"beta_size_dim_0\" : [\"Pine\", \"Deciduous\", \"Mixed\", \"Spruce\"],\n",
    "            \"beta_age_dim_0\" : [\"Pine\", \"Deciduous\", \"Mixed\", \"Spruce\"]},\n",
    "    log_likelihood=\"log_lik\"\n",
    ")\n",
    "nb_150_idata.rename_vars({\"beta_edge\": \"Patch edge\", \"beta_dist_forest\": \"Distance to forest\", \"beta_patch\":\"Patch\", \"beta_age_patch\": \"Patch:Age\", \"beta_age\": \"Age\", \"beta_age2\": \"Age${^2}$\", \"alpha\": \"Intercept\"}, inplace=True)\n",
    "nb_150_idata.to_netcdf(f'{bird}', f'{bird}_150_nb.nc')"
   ]
  },
  {
   "cell_type": "markdown",
   "metadata": {},
   "source": [
    "# D. Plot posterior predictive checks"
   ]
  },
  {
   "cell_type": "markdown",
   "metadata": {},
   "source": [
    "### D.1 Compare loo\n",
    "To test whether applying truncation leads to better predictive data"
   ]
  },
  {
   "cell_type": "code",
   "execution_count": null,
   "metadata": {},
   "outputs": [],
   "source": [
    "model_compare = az.compare(compare_dict={'unlimited': nb_unlimited_idata, \n",
    "                         '250m': nb_250_idata, \n",
    "                         '150m': nb_150_idata},\n",
    "                            ic = 'loo')"
   ]
  },
  {
   "cell_type": "markdown",
   "metadata": {},
   "source": [
    "### D.2 Compare WAIC\n",
    "To choose the model"
   ]
  },
  {
   "cell_type": "code",
   "execution_count": null,
   "metadata": {},
   "outputs": [],
   "source": [
    "comparison_waic = az.compare({'edge': model_with_edge,\n",
    "            'area': model_with_area,\n",
    "            'edge_area': model_with_edge_area,\n",
    "            'dist_to_forest': model_with_forest_dist,\n",
    "            'age2_area': model_with_area_age2,\n",
    "            'age2_edge': model_with_edge_age2},\n",
    "            ic = \"waic\")"
   ]
  }
 ],
 "metadata": {
  "kernelspec": {
   "display_name": "stan",
   "language": "python",
   "name": "python3"
  },
  "language_info": {
   "codemirror_mode": {
    "name": "ipython",
    "version": 3
   },
   "file_extension": ".py",
   "mimetype": "text/x-python",
   "name": "python",
   "nbconvert_exporter": "python",
   "pygments_lexer": "ipython3",
   "version": "3.11.3"
  }
 },
 "nbformat": 4,
 "nbformat_minor": 2
}
